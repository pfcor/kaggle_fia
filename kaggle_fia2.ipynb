{
 "cells": [
  {
   "cell_type": "code",
   "execution_count": 1,
   "metadata": {},
   "outputs": [],
   "source": [
    "import numpy as np\n",
    "import pandas as pd\n",
    "import matplotlib.pyplot as plt\n",
    "import seaborn as sns; sns.set_style('white')\n",
    "\n",
    "%matplotlib inline"
   ]
  },
  {
   "cell_type": "code",
   "execution_count": 2,
   "metadata": {},
   "outputs": [],
   "source": [
    "# read data\n",
    "data = pd.read_csv(\n",
    "    'data/credit_train_label.csv'\n",
    ")"
   ]
  },
  {
   "cell_type": "code",
   "execution_count": 3,
   "metadata": {},
   "outputs": [],
   "source": [
    "data.drop('X', axis=1, inplace=True)"
   ]
  },
  {
   "cell_type": "code",
   "execution_count": 4,
   "metadata": {},
   "outputs": [],
   "source": [
    "X = data.iloc[:, 1:]\n",
    "y = data.iloc[:, 0]"
   ]
  },
  {
   "cell_type": "code",
   "execution_count": 5,
   "metadata": {},
   "outputs": [],
   "source": [
    "# Windsor\n",
    "for feature in X.columns:\n",
    "    X.loc[X[feature] > X[feature].quantile(0.99), feature] = X[feature].quantile(0.999)"
   ]
  },
  {
   "cell_type": "code",
   "execution_count": 6,
   "metadata": {},
   "outputs": [],
   "source": [
    "# separate test and train data\n",
    "from sklearn.model_selection import train_test_split\n",
    "\n",
    "X_train, X_test, y_train, y_test = train_test_split(X, y, test_size=0.25, random_state=433)"
   ]
  },
  {
   "cell_type": "code",
   "execution_count": 7,
   "metadata": {},
   "outputs": [],
   "source": [
    "monthly_income_median = X_train['MonthlyIncome'].median()\n",
    "number_of_dependents = X_train['NumberOfDependents'].median()"
   ]
  },
  {
   "cell_type": "code",
   "execution_count": 8,
   "metadata": {},
   "outputs": [
    {
     "name": "stderr",
     "output_type": "stream",
     "text": [
      "/home/pfcor/miniconda3/envs/kaggle_fia/lib/python3.6/site-packages/pandas/core/generic.py:4355: SettingWithCopyWarning: \n",
      "A value is trying to be set on a copy of a slice from a DataFrame\n",
      "\n",
      "See the caveats in the documentation: http://pandas.pydata.org/pandas-docs/stable/indexing.html#indexing-view-versus-copy\n",
      "  self._update_inplace(new_data)\n"
     ]
    }
   ],
   "source": [
    "X_train['MonthlyIncome'].fillna(monthly_income_median, inplace=True)\n",
    "X_train['NumberOfDependents'].fillna(number_of_dependents, inplace=True)\n",
    "\n",
    "X_test['MonthlyIncome'].fillna(monthly_income_median, inplace=True)\n",
    "X_test['NumberOfDependents'].fillna(number_of_dependents, inplace=True)"
   ]
  },
  {
   "cell_type": "code",
   "execution_count": 9,
   "metadata": {},
   "outputs": [],
   "source": [
    "# scaling\n",
    "from sklearn.preprocessing import StandardScaler\n",
    "\n",
    "scaler = StandardScaler()\n",
    "scaler.fit(X_train) # fitted on train data only\n",
    "\n",
    "X_train = scaler.transform(X_train)\n",
    "X_test = scaler.transform(X_test)"
   ]
  },
  {
   "cell_type": "code",
   "execution_count": 10,
   "metadata": {},
   "outputs": [],
   "source": [
    "from imblearn.over_sampling import SMOTE, RandomOverSampler\n",
    "\n",
    "sm = SMOTE(random_state=433)\n",
    "# ros = RandomOverSampler(random_state=433)\n",
    "X_res, y_res = sm.fit_sample(X_train, y_train)\n",
    "# X_res, y_res = ros.fit_sample(X_train, y_train)"
   ]
  },
  {
   "cell_type": "code",
   "execution_count": 11,
   "metadata": {},
   "outputs": [
    {
     "name": "stdout",
     "output_type": "stream",
     "text": [
      "[[11672    13]\n",
      " [  780    35]]\n",
      "\n",
      "             precision    recall  f1-score   support\n",
      "\n",
      "          0       0.94      1.00      0.97     11685\n",
      "          1       0.73      0.04      0.08       815\n",
      "\n",
      "avg / total       0.92      0.94      0.91     12500\n",
      "\n",
      "\n",
      "0.6885033772520482\n"
     ]
    }
   ],
   "source": [
    "from sklearn.linear_model import LogisticRegression\n",
    "\n",
    "logit = LogisticRegression(C=1e5)\n",
    "logit.fit(X_train, y_train)\n",
    "y_hat = logit.predict(X_test)\n",
    "y_probs = logit.predict_proba(X_test)\n",
    "\n",
    "from sklearn.metrics import confusion_matrix\n",
    "from sklearn.metrics import classification_report\n",
    "from sklearn.metrics import roc_auc_score\n",
    "\n",
    "print(confusion_matrix(y_test, y_hat))\n",
    "print()\n",
    "print(classification_report(y_test, y_hat))\n",
    "print()\n",
    "print(roc_auc_score(y_test, y_probs[:,1]))"
   ]
  },
  {
   "cell_type": "code",
   "execution_count": 24,
   "metadata": {},
   "outputs": [
    {
     "name": "stdout",
     "output_type": "stream",
     "text": [
      "[[11540   145]\n",
      " [  651   164]]\n",
      "\n",
      "             precision    recall  f1-score   support\n",
      "\n",
      "          0       0.95      0.99      0.97     11685\n",
      "          1       0.53      0.20      0.29       815\n",
      "\n",
      "avg / total       0.92      0.94      0.92     12500\n",
      "\n",
      "\n",
      "0.8365989116139144\n"
     ]
    }
   ],
   "source": [
    "from sklearn.ensemble import RandomForestClassifier\n",
    "\n",
    "rf = RandomForestClassifier(n_estimators=100)\n",
    "\n",
    "rf.fit(X_train, y_train)\n",
    "y_hat = rf.predict(X_test)\n",
    "y_probs = rf.predict_proba(X_test)\n",
    "\n",
    "from sklearn.metrics import confusion_matrix\n",
    "from sklearn.metrics import classification_report\n",
    "from sklearn.metrics import roc_auc_score\n",
    "\n",
    "print(confusion_matrix(y_test, y_hat))\n",
    "print()\n",
    "print(classification_report(y_test, y_hat))\n",
    "print()\n",
    "print(roc_auc_score(y_test, y_probs[:,1]))"
   ]
  },
  {
   "cell_type": "code",
   "execution_count": 27,
   "metadata": {},
   "outputs": [
    {
     "data": {
      "text/plain": [
       "[(0.03656657308093342, 'NumberRealEstateLoansOrLines'),\n",
       " (0.04568938927934402, 'NumberOfDependents'),\n",
       " (0.05016181773118108, 'NumberOfTime60.89DaysPastDueNotWorse'),\n",
       " (0.051637683748290246, 'NumberOfTime30.59DaysPastDueNotWorse'),\n",
       " (0.09121272139235792, 'NumberOfTimes90DaysLate'),\n",
       " (0.09301331696417621, 'NumberOfOpenCreditLinesAndLoans'),\n",
       " (0.13160799616318014, 'age'),\n",
       " (0.1463735474228535, 'MonthlyIncome'),\n",
       " (0.17030302624641966, 'DebtRatio'),\n",
       " (0.18343392797126376, 'RevolvingUtilizationOfUnsecuredLines')]"
      ]
     },
     "execution_count": 27,
     "metadata": {},
     "output_type": "execute_result"
    }
   ],
   "source": [
    "sorted(list(zip(rf.feature_importances_, X.columns)))"
   ]
  },
  {
   "cell_type": "code",
   "execution_count": 16,
   "metadata": {},
   "outputs": [
    {
     "name": "stdout",
     "output_type": "stream",
     "text": [
      "{'bootstrap': [True],\n",
      " 'max_depth': [10, 20, 30, 40, 50, 60, 70, 80, 90, 100, 110, None],\n",
      " 'max_features': ['auto', 'sqrt'],\n",
      " 'min_samples_leaf': [1, 2, 4],\n",
      " 'min_samples_split': [2, 5, 10],\n",
      " 'n_estimators': [100, 155, 211, 266, 322, 377, 433, 488, 544, 600]}\n"
     ]
    }
   ],
   "source": [
    "from sklearn.model_selection import RandomizedSearchCV\n",
    "\n",
    "# Number of trees in random forest\n",
    "n_estimators = [int(x) for x in np.linspace(start = 100, stop = 1000, num = 10)]\n",
    "# Number of features to consider at every split\n",
    "max_features = ['auto', 'sqrt']\n",
    "# Maximum number of levels in tree\n",
    "max_depth = [int(x) for x in np.linspace(10, 110, num = 11)]\n",
    "max_depth.append(None)\n",
    "# Minimum number of samples required to split a node\n",
    "min_samples_split = [2, 5, 10]\n",
    "# Minimum number of samples required at each leaf node\n",
    "min_samples_leaf = [1, 2, 4]\n",
    "# Method of selecting samples for training each tree\n",
    "bootstrap = [True]\n",
    "\n",
    "# Create the random grid\n",
    "random_grid = {'n_estimators': n_estimators,\n",
    "               'max_features': max_features,\n",
    "               'max_depth': max_depth,\n",
    "               'min_samples_split': min_samples_split,\n",
    "               'min_samples_leaf': min_samples_leaf,\n",
    "               'bootstrap': bootstrap}\n",
    "import pprint\n",
    "\n",
    "pprint.pprint(random_grid)"
   ]
  },
  {
   "cell_type": "code",
   "execution_count": 17,
   "metadata": {
    "scrolled": true
   },
   "outputs": [
    {
     "name": "stdout",
     "output_type": "stream",
     "text": [
      "Fitting 3 folds for each of 10 candidates, totalling 30 fits\n",
      "[CV] n_estimators=155, min_samples_split=10, min_samples_leaf=1, max_features=auto, max_depth=60, bootstrap=True \n",
      "[CV] n_estimators=155, min_samples_split=10, min_samples_leaf=1, max_features=auto, max_depth=60, bootstrap=True \n",
      "[CV] n_estimators=155, min_samples_split=10, min_samples_leaf=1, max_features=auto, max_depth=60, bootstrap=True \n",
      "[CV] n_estimators=211, min_samples_split=10, min_samples_leaf=2, max_features=auto, max_depth=100, bootstrap=True \n",
      "[CV]  n_estimators=155, min_samples_split=10, min_samples_leaf=1, max_features=auto, max_depth=60, bootstrap=True, total=  25.4s\n",
      "[CV] n_estimators=211, min_samples_split=10, min_samples_leaf=2, max_features=auto, max_depth=100, bootstrap=True \n",
      "[CV]  n_estimators=155, min_samples_split=10, min_samples_leaf=1, max_features=auto, max_depth=60, bootstrap=True, total=  25.6s\n",
      "[CV] n_estimators=211, min_samples_split=10, min_samples_leaf=2, max_features=auto, max_depth=100, bootstrap=True \n",
      "[CV]  n_estimators=155, min_samples_split=10, min_samples_leaf=1, max_features=auto, max_depth=60, bootstrap=True, total=  26.7s\n",
      "[CV] n_estimators=433, min_samples_split=10, min_samples_leaf=2, max_features=auto, max_depth=40, bootstrap=True \n",
      "[CV]  n_estimators=211, min_samples_split=10, min_samples_leaf=2, max_features=auto, max_depth=100, bootstrap=True, total=  37.6s\n",
      "[CV] n_estimators=433, min_samples_split=10, min_samples_leaf=2, max_features=auto, max_depth=40, bootstrap=True \n",
      "[CV]  n_estimators=211, min_samples_split=10, min_samples_leaf=2, max_features=auto, max_depth=100, bootstrap=True, total=  37.8s\n",
      "[CV] n_estimators=433, min_samples_split=10, min_samples_leaf=2, max_features=auto, max_depth=40, bootstrap=True \n",
      "[CV]  n_estimators=211, min_samples_split=10, min_samples_leaf=2, max_features=auto, max_depth=100, bootstrap=True, total=  38.5s\n",
      "[CV] n_estimators=544, min_samples_split=2, min_samples_leaf=4, max_features=sqrt, max_depth=50, bootstrap=True \n",
      "[CV]  n_estimators=433, min_samples_split=10, min_samples_leaf=2, max_features=auto, max_depth=40, bootstrap=True, total= 1.3min\n",
      "[CV] n_estimators=544, min_samples_split=2, min_samples_leaf=4, max_features=sqrt, max_depth=50, bootstrap=True \n",
      "[CV]  n_estimators=433, min_samples_split=10, min_samples_leaf=2, max_features=auto, max_depth=40, bootstrap=True, total= 1.3min\n",
      "[CV] n_estimators=544, min_samples_split=2, min_samples_leaf=4, max_features=sqrt, max_depth=50, bootstrap=True \n",
      "[CV]  n_estimators=433, min_samples_split=10, min_samples_leaf=2, max_features=auto, max_depth=40, bootstrap=True, total= 1.4min\n",
      "[CV] n_estimators=155, min_samples_split=10, min_samples_leaf=1, max_features=sqrt, max_depth=70, bootstrap=True \n",
      "[CV]  n_estimators=544, min_samples_split=2, min_samples_leaf=4, max_features=sqrt, max_depth=50, bootstrap=True, total= 1.6min\n",
      "[CV] n_estimators=155, min_samples_split=10, min_samples_leaf=1, max_features=sqrt, max_depth=70, bootstrap=True \n",
      "[CV]  n_estimators=155, min_samples_split=10, min_samples_leaf=1, max_features=sqrt, max_depth=70, bootstrap=True, total=  26.0s\n",
      "[CV] n_estimators=155, min_samples_split=10, min_samples_leaf=1, max_features=sqrt, max_depth=70, bootstrap=True \n",
      "[CV]  n_estimators=155, min_samples_split=10, min_samples_leaf=1, max_features=sqrt, max_depth=70, bootstrap=True, total=  29.6s\n",
      "[CV] n_estimators=488, min_samples_split=10, min_samples_leaf=1, max_features=sqrt, max_depth=None, bootstrap=True \n",
      "[CV]  n_estimators=155, min_samples_split=10, min_samples_leaf=1, max_features=sqrt, max_depth=70, bootstrap=True, total=  26.8s\n",
      "[CV] n_estimators=488, min_samples_split=10, min_samples_leaf=1, max_features=sqrt, max_depth=None, bootstrap=True \n",
      "[CV]  n_estimators=544, min_samples_split=2, min_samples_leaf=4, max_features=sqrt, max_depth=50, bootstrap=True, total= 1.6min\n",
      "[CV] n_estimators=488, min_samples_split=10, min_samples_leaf=1, max_features=sqrt, max_depth=None, bootstrap=True \n",
      "[CV]  n_estimators=544, min_samples_split=2, min_samples_leaf=4, max_features=sqrt, max_depth=50, bootstrap=True, total= 1.5min\n",
      "[CV] n_estimators=155, min_samples_split=2, min_samples_leaf=2, max_features=auto, max_depth=110, bootstrap=True \n",
      "[CV]  n_estimators=155, min_samples_split=2, min_samples_leaf=2, max_features=auto, max_depth=110, bootstrap=True, total=  28.3s\n",
      "[CV] n_estimators=155, min_samples_split=2, min_samples_leaf=2, max_features=auto, max_depth=110, bootstrap=True \n",
      "[CV]  n_estimators=155, min_samples_split=2, min_samples_leaf=2, max_features=auto, max_depth=110, bootstrap=True, total=  26.9s\n",
      "[CV] n_estimators=155, min_samples_split=2, min_samples_leaf=2, max_features=auto, max_depth=110, bootstrap=True \n",
      "[CV]  n_estimators=488, min_samples_split=10, min_samples_leaf=1, max_features=sqrt, max_depth=None, bootstrap=True, total= 1.5min\n",
      "[CV] n_estimators=100, min_samples_split=10, min_samples_leaf=4, max_features=auto, max_depth=30, bootstrap=True \n",
      "[CV]  n_estimators=488, min_samples_split=10, min_samples_leaf=1, max_features=sqrt, max_depth=None, bootstrap=True, total= 1.4min\n",
      "[CV] n_estimators=100, min_samples_split=10, min_samples_leaf=4, max_features=auto, max_depth=30, bootstrap=True \n",
      "[CV]  n_estimators=488, min_samples_split=10, min_samples_leaf=1, max_features=sqrt, max_depth=None, bootstrap=True, total= 1.4min\n",
      "[CV] n_estimators=100, min_samples_split=10, min_samples_leaf=4, max_features=auto, max_depth=30, bootstrap=True \n",
      "[CV]  n_estimators=155, min_samples_split=2, min_samples_leaf=2, max_features=auto, max_depth=110, bootstrap=True, total=  28.3s\n",
      "[CV] n_estimators=544, min_samples_split=2, min_samples_leaf=2, max_features=sqrt, max_depth=20, bootstrap=True \n",
      "[CV]  n_estimators=100, min_samples_split=10, min_samples_leaf=4, max_features=auto, max_depth=30, bootstrap=True, total=  18.1s\n",
      "[CV] n_estimators=544, min_samples_split=2, min_samples_leaf=2, max_features=sqrt, max_depth=20, bootstrap=True \n",
      "[CV]  n_estimators=100, min_samples_split=10, min_samples_leaf=4, max_features=auto, max_depth=30, bootstrap=True, total=  17.7s\n",
      "[CV] n_estimators=544, min_samples_split=2, min_samples_leaf=2, max_features=sqrt, max_depth=20, bootstrap=True \n",
      "[CV]  n_estimators=100, min_samples_split=10, min_samples_leaf=4, max_features=auto, max_depth=30, bootstrap=True, total=  18.3s\n",
      "[CV] n_estimators=155, min_samples_split=5, min_samples_leaf=4, max_features=sqrt, max_depth=50, bootstrap=True \n",
      "[CV]  n_estimators=155, min_samples_split=5, min_samples_leaf=4, max_features=sqrt, max_depth=50, bootstrap=True, total=  31.0s\n",
      "[CV] n_estimators=155, min_samples_split=5, min_samples_leaf=4, max_features=sqrt, max_depth=50, bootstrap=True \n",
      "[CV]  n_estimators=155, min_samples_split=5, min_samples_leaf=4, max_features=sqrt, max_depth=50, bootstrap=True, total=  26.1s\n",
      "[CV] n_estimators=155, min_samples_split=5, min_samples_leaf=4, max_features=sqrt, max_depth=50, bootstrap=True \n",
      "[CV]  n_estimators=155, min_samples_split=5, min_samples_leaf=4, max_features=sqrt, max_depth=50, bootstrap=True, total=  27.0s\n",
      "[CV]  n_estimators=544, min_samples_split=2, min_samples_leaf=2, max_features=sqrt, max_depth=20, bootstrap=True, total= 1.7min\n",
      "[CV]  n_estimators=544, min_samples_split=2, min_samples_leaf=2, max_features=sqrt, max_depth=20, bootstrap=True, total= 1.7min\n",
      "[CV]  n_estimators=544, min_samples_split=2, min_samples_leaf=2, max_features=sqrt, max_depth=20, bootstrap=True, total= 1.6min\n"
     ]
    },
    {
     "name": "stderr",
     "output_type": "stream",
     "text": [
      "[Parallel(n_jobs=-1)]: Done  30 out of  30 | elapsed:  7.1min finished\n"
     ]
    },
    {
     "name": "stdout",
     "output_type": "stream",
     "text": [
      "CPU times: user 1min 2s, sys: 240 ms, total: 1min 2s\n",
      "Wall time: 8min 13s\n"
     ]
    }
   ],
   "source": [
    "%%time\n",
    "# Use the random grid to search for best hyperparameters\n",
    "# First create the base model to tune\n",
    "rf = RandomForestClassifier()\n",
    "\n",
    "# Random search of parameters, using 3 fold cross validation, \n",
    "# search across 100 different combinations, and use all available cores\n",
    "rf_random = RandomizedSearchCV(estimator = rf, param_distributions = random_grid, n_iter = 10, cv = 3, verbose=2, random_state=433, n_jobs = -1, scoring='roc_auc')\n",
    "\n",
    "# Fit the random search model\n",
    "rf_random.fit(X_train, y_train)"
   ]
  },
  {
   "cell_type": "code",
   "execution_count": 19,
   "metadata": {},
   "outputs": [
    {
     "data": {
      "text/plain": [
       "{'n_estimators': 544,\n",
       " 'min_samples_split': 2,\n",
       " 'min_samples_leaf': 4,\n",
       " 'max_features': 'sqrt',\n",
       " 'max_depth': 50,\n",
       " 'bootstrap': True}"
      ]
     },
     "execution_count": 19,
     "metadata": {},
     "output_type": "execute_result"
    }
   ],
   "source": [
    "rf_random.best_params_"
   ]
  },
  {
   "cell_type": "code",
   "execution_count": 18,
   "metadata": {},
   "outputs": [
    {
     "name": "stdout",
     "output_type": "stream",
     "text": [
      "[[11577   108]\n",
      " [  672   143]]\n",
      "\n",
      "             precision    recall  f1-score   support\n",
      "\n",
      "          0       0.95      0.99      0.97     11685\n",
      "          1       0.57      0.18      0.27       815\n",
      "\n",
      "avg / total       0.92      0.94      0.92     12500\n",
      "\n",
      "\n",
      "0.8551123431802611\n"
     ]
    }
   ],
   "source": [
    "y_hat = rf_random.predict(X_test)\n",
    "y_probs = rf_random.predict_proba(X_test)\n",
    "\n",
    "from sklearn.metrics import confusion_matrix\n",
    "from sklearn.metrics import classification_report\n",
    "from sklearn.metrics import roc_auc_score\n",
    "\n",
    "print(confusion_matrix(y_test, y_hat))\n",
    "print()\n",
    "print(classification_report(y_test, y_hat))\n",
    "print()\n",
    "print(roc_auc_score(y_test, y_probs[:,1]))"
   ]
  },
  {
   "cell_type": "code",
   "execution_count": 21,
   "metadata": {},
   "outputs": [
    {
     "name": "stdout",
     "output_type": "stream",
     "text": [
      "[[11585   100]\n",
      " [  665   150]]\n",
      "\n",
      "             precision    recall  f1-score   support\n",
      "\n",
      "          0       0.95      0.99      0.97     11685\n",
      "          1       0.60      0.18      0.28       815\n",
      "\n",
      "avg / total       0.92      0.94      0.92     12500\n",
      "\n",
      "\n",
      "0.8570179376317495\n"
     ]
    }
   ],
   "source": [
    "from sklearn.ensemble import GradientBoostingClassifier\n",
    "\n",
    "params = {'n_estimators': 500, 'max_depth': 2, 'min_samples_split': 2,\n",
    "          'learning_rate': 0.01, 'random_state': 42}\n",
    "\n",
    "clf = GradientBoostingClassifier(**params)\n",
    "\n",
    "clf.fit(X_train, y_train)\n",
    "y_hat = clf.predict(X_test)\n",
    "y_probs = clf.predict_proba(X_test)\n",
    "\n",
    "from sklearn.metrics import confusion_matrix\n",
    "from sklearn.metrics import classification_report\n",
    "from sklearn.metrics import roc_auc_score\n",
    "\n",
    "print(confusion_matrix(y_test, y_hat))\n",
    "print()\n",
    "print(classification_report(y_test, y_hat))\n",
    "print()\n",
    "print(roc_auc_score(y_test, y_probs[:,1]))"
   ]
  },
  {
   "cell_type": "code",
   "execution_count": 28,
   "metadata": {},
   "outputs": [],
   "source": [
    "tuned_parameters = [{'n_estimators': [10, 100, 300, 600],\n",
    "                     'max_depth' : [3, 10],\n",
    "                     'min_samples_split': [2, 10],\n",
    "                     'learning_rate': [0.001, 0.1], \n",
    "                     'subsample': [0.5, 1]}]"
   ]
  },
  {
   "cell_type": "code",
   "execution_count": 30,
   "metadata": {
    "scrolled": true
   },
   "outputs": [
    {
     "ename": "KeyboardInterrupt",
     "evalue": "",
     "output_type": "error",
     "traceback": [
      "\u001b[0;31m---------------------------------------------------------------------------\u001b[0m",
      "\u001b[0;31mKeyboardInterrupt\u001b[0m                         Traceback (most recent call last)",
      "\u001b[0;32m<ipython-input-30-a4fda6f7eaa9>\u001b[0m in \u001b[0;36m<module>\u001b[0;34m()\u001b[0m\n\u001b[1;32m      2\u001b[0m \u001b[0;34m\u001b[0m\u001b[0m\n\u001b[1;32m      3\u001b[0m \u001b[0mclf\u001b[0m \u001b[0;34m=\u001b[0m \u001b[0mGridSearchCV\u001b[0m\u001b[0;34m(\u001b[0m\u001b[0mGradientBoostingClassifier\u001b[0m\u001b[0;34m(\u001b[0m\u001b[0;34m)\u001b[0m\u001b[0;34m,\u001b[0m \u001b[0mtuned_parameters\u001b[0m\u001b[0;34m,\u001b[0m \u001b[0mcv\u001b[0m\u001b[0;34m=\u001b[0m\u001b[0;36m5\u001b[0m\u001b[0;34m,\u001b[0m \u001b[0mscoring\u001b[0m\u001b[0;34m=\u001b[0m\u001b[0;34m'roc_auc'\u001b[0m\u001b[0;34m)\u001b[0m\u001b[0;34m\u001b[0m\u001b[0m\n\u001b[0;32m----> 4\u001b[0;31m \u001b[0mclf\u001b[0m\u001b[0;34m.\u001b[0m\u001b[0mfit\u001b[0m\u001b[0;34m(\u001b[0m\u001b[0mX_train\u001b[0m\u001b[0;34m,\u001b[0m \u001b[0my_train\u001b[0m\u001b[0;34m)\u001b[0m\u001b[0;34m\u001b[0m\u001b[0m\n\u001b[0m",
      "\u001b[0;32m~/miniconda3/envs/kaggle_fia/lib/python3.6/site-packages/sklearn/model_selection/_search.py\u001b[0m in \u001b[0;36mfit\u001b[0;34m(self, X, y, groups, **fit_params)\u001b[0m\n\u001b[1;32m    637\u001b[0m                                   error_score=self.error_score)\n\u001b[1;32m    638\u001b[0m           for parameters, (train, test) in product(candidate_params,\n\u001b[0;32m--> 639\u001b[0;31m                                                    cv.split(X, y, groups)))\n\u001b[0m\u001b[1;32m    640\u001b[0m \u001b[0;34m\u001b[0m\u001b[0m\n\u001b[1;32m    641\u001b[0m         \u001b[0;31m# if one choose to see train score, \"out\" will contain train score info\u001b[0m\u001b[0;34m\u001b[0m\u001b[0;34m\u001b[0m\u001b[0m\n",
      "\u001b[0;32m~/miniconda3/envs/kaggle_fia/lib/python3.6/site-packages/sklearn/externals/joblib/parallel.py\u001b[0m in \u001b[0;36m__call__\u001b[0;34m(self, iterable)\u001b[0m\n\u001b[1;32m    777\u001b[0m             \u001b[0;31m# was dispatched. In particular this covers the edge\u001b[0m\u001b[0;34m\u001b[0m\u001b[0;34m\u001b[0m\u001b[0m\n\u001b[1;32m    778\u001b[0m             \u001b[0;31m# case of Parallel used with an exhausted iterator.\u001b[0m\u001b[0;34m\u001b[0m\u001b[0;34m\u001b[0m\u001b[0m\n\u001b[0;32m--> 779\u001b[0;31m             \u001b[0;32mwhile\u001b[0m \u001b[0mself\u001b[0m\u001b[0;34m.\u001b[0m\u001b[0mdispatch_one_batch\u001b[0m\u001b[0;34m(\u001b[0m\u001b[0miterator\u001b[0m\u001b[0;34m)\u001b[0m\u001b[0;34m:\u001b[0m\u001b[0;34m\u001b[0m\u001b[0m\n\u001b[0m\u001b[1;32m    780\u001b[0m                 \u001b[0mself\u001b[0m\u001b[0;34m.\u001b[0m\u001b[0m_iterating\u001b[0m \u001b[0;34m=\u001b[0m \u001b[0;32mTrue\u001b[0m\u001b[0;34m\u001b[0m\u001b[0m\n\u001b[1;32m    781\u001b[0m             \u001b[0;32melse\u001b[0m\u001b[0;34m:\u001b[0m\u001b[0;34m\u001b[0m\u001b[0m\n",
      "\u001b[0;32m~/miniconda3/envs/kaggle_fia/lib/python3.6/site-packages/sklearn/externals/joblib/parallel.py\u001b[0m in \u001b[0;36mdispatch_one_batch\u001b[0;34m(self, iterator)\u001b[0m\n\u001b[1;32m    623\u001b[0m                 \u001b[0;32mreturn\u001b[0m \u001b[0;32mFalse\u001b[0m\u001b[0;34m\u001b[0m\u001b[0m\n\u001b[1;32m    624\u001b[0m             \u001b[0;32melse\u001b[0m\u001b[0;34m:\u001b[0m\u001b[0;34m\u001b[0m\u001b[0m\n\u001b[0;32m--> 625\u001b[0;31m                 \u001b[0mself\u001b[0m\u001b[0;34m.\u001b[0m\u001b[0m_dispatch\u001b[0m\u001b[0;34m(\u001b[0m\u001b[0mtasks\u001b[0m\u001b[0;34m)\u001b[0m\u001b[0;34m\u001b[0m\u001b[0m\n\u001b[0m\u001b[1;32m    626\u001b[0m                 \u001b[0;32mreturn\u001b[0m \u001b[0;32mTrue\u001b[0m\u001b[0;34m\u001b[0m\u001b[0m\n\u001b[1;32m    627\u001b[0m \u001b[0;34m\u001b[0m\u001b[0m\n",
      "\u001b[0;32m~/miniconda3/envs/kaggle_fia/lib/python3.6/site-packages/sklearn/externals/joblib/parallel.py\u001b[0m in \u001b[0;36m_dispatch\u001b[0;34m(self, batch)\u001b[0m\n\u001b[1;32m    586\u001b[0m         \u001b[0mdispatch_timestamp\u001b[0m \u001b[0;34m=\u001b[0m \u001b[0mtime\u001b[0m\u001b[0;34m.\u001b[0m\u001b[0mtime\u001b[0m\u001b[0;34m(\u001b[0m\u001b[0;34m)\u001b[0m\u001b[0;34m\u001b[0m\u001b[0m\n\u001b[1;32m    587\u001b[0m         \u001b[0mcb\u001b[0m \u001b[0;34m=\u001b[0m \u001b[0mBatchCompletionCallBack\u001b[0m\u001b[0;34m(\u001b[0m\u001b[0mdispatch_timestamp\u001b[0m\u001b[0;34m,\u001b[0m \u001b[0mlen\u001b[0m\u001b[0;34m(\u001b[0m\u001b[0mbatch\u001b[0m\u001b[0;34m)\u001b[0m\u001b[0;34m,\u001b[0m \u001b[0mself\u001b[0m\u001b[0;34m)\u001b[0m\u001b[0;34m\u001b[0m\u001b[0m\n\u001b[0;32m--> 588\u001b[0;31m         \u001b[0mjob\u001b[0m \u001b[0;34m=\u001b[0m \u001b[0mself\u001b[0m\u001b[0;34m.\u001b[0m\u001b[0m_backend\u001b[0m\u001b[0;34m.\u001b[0m\u001b[0mapply_async\u001b[0m\u001b[0;34m(\u001b[0m\u001b[0mbatch\u001b[0m\u001b[0;34m,\u001b[0m \u001b[0mcallback\u001b[0m\u001b[0;34m=\u001b[0m\u001b[0mcb\u001b[0m\u001b[0;34m)\u001b[0m\u001b[0;34m\u001b[0m\u001b[0m\n\u001b[0m\u001b[1;32m    589\u001b[0m         \u001b[0mself\u001b[0m\u001b[0;34m.\u001b[0m\u001b[0m_jobs\u001b[0m\u001b[0;34m.\u001b[0m\u001b[0mappend\u001b[0m\u001b[0;34m(\u001b[0m\u001b[0mjob\u001b[0m\u001b[0;34m)\u001b[0m\u001b[0;34m\u001b[0m\u001b[0m\n\u001b[1;32m    590\u001b[0m \u001b[0;34m\u001b[0m\u001b[0m\n",
      "\u001b[0;32m~/miniconda3/envs/kaggle_fia/lib/python3.6/site-packages/sklearn/externals/joblib/_parallel_backends.py\u001b[0m in \u001b[0;36mapply_async\u001b[0;34m(self, func, callback)\u001b[0m\n\u001b[1;32m    109\u001b[0m     \u001b[0;32mdef\u001b[0m \u001b[0mapply_async\u001b[0m\u001b[0;34m(\u001b[0m\u001b[0mself\u001b[0m\u001b[0;34m,\u001b[0m \u001b[0mfunc\u001b[0m\u001b[0;34m,\u001b[0m \u001b[0mcallback\u001b[0m\u001b[0;34m=\u001b[0m\u001b[0;32mNone\u001b[0m\u001b[0;34m)\u001b[0m\u001b[0;34m:\u001b[0m\u001b[0;34m\u001b[0m\u001b[0m\n\u001b[1;32m    110\u001b[0m         \u001b[0;34m\"\"\"Schedule a func to be run\"\"\"\u001b[0m\u001b[0;34m\u001b[0m\u001b[0m\n\u001b[0;32m--> 111\u001b[0;31m         \u001b[0mresult\u001b[0m \u001b[0;34m=\u001b[0m \u001b[0mImmediateResult\u001b[0m\u001b[0;34m(\u001b[0m\u001b[0mfunc\u001b[0m\u001b[0;34m)\u001b[0m\u001b[0;34m\u001b[0m\u001b[0m\n\u001b[0m\u001b[1;32m    112\u001b[0m         \u001b[0;32mif\u001b[0m \u001b[0mcallback\u001b[0m\u001b[0;34m:\u001b[0m\u001b[0;34m\u001b[0m\u001b[0m\n\u001b[1;32m    113\u001b[0m             \u001b[0mcallback\u001b[0m\u001b[0;34m(\u001b[0m\u001b[0mresult\u001b[0m\u001b[0;34m)\u001b[0m\u001b[0;34m\u001b[0m\u001b[0m\n",
      "\u001b[0;32m~/miniconda3/envs/kaggle_fia/lib/python3.6/site-packages/sklearn/externals/joblib/_parallel_backends.py\u001b[0m in \u001b[0;36m__init__\u001b[0;34m(self, batch)\u001b[0m\n\u001b[1;32m    330\u001b[0m         \u001b[0;31m# Don't delay the application, to avoid keeping the input\u001b[0m\u001b[0;34m\u001b[0m\u001b[0;34m\u001b[0m\u001b[0m\n\u001b[1;32m    331\u001b[0m         \u001b[0;31m# arguments in memory\u001b[0m\u001b[0;34m\u001b[0m\u001b[0;34m\u001b[0m\u001b[0m\n\u001b[0;32m--> 332\u001b[0;31m         \u001b[0mself\u001b[0m\u001b[0;34m.\u001b[0m\u001b[0mresults\u001b[0m \u001b[0;34m=\u001b[0m \u001b[0mbatch\u001b[0m\u001b[0;34m(\u001b[0m\u001b[0;34m)\u001b[0m\u001b[0;34m\u001b[0m\u001b[0m\n\u001b[0m\u001b[1;32m    333\u001b[0m \u001b[0;34m\u001b[0m\u001b[0m\n\u001b[1;32m    334\u001b[0m     \u001b[0;32mdef\u001b[0m \u001b[0mget\u001b[0m\u001b[0;34m(\u001b[0m\u001b[0mself\u001b[0m\u001b[0;34m)\u001b[0m\u001b[0;34m:\u001b[0m\u001b[0;34m\u001b[0m\u001b[0m\n",
      "\u001b[0;32m~/miniconda3/envs/kaggle_fia/lib/python3.6/site-packages/sklearn/externals/joblib/parallel.py\u001b[0m in \u001b[0;36m__call__\u001b[0;34m(self)\u001b[0m\n\u001b[1;32m    129\u001b[0m \u001b[0;34m\u001b[0m\u001b[0m\n\u001b[1;32m    130\u001b[0m     \u001b[0;32mdef\u001b[0m \u001b[0m__call__\u001b[0m\u001b[0;34m(\u001b[0m\u001b[0mself\u001b[0m\u001b[0;34m)\u001b[0m\u001b[0;34m:\u001b[0m\u001b[0;34m\u001b[0m\u001b[0m\n\u001b[0;32m--> 131\u001b[0;31m         \u001b[0;32mreturn\u001b[0m \u001b[0;34m[\u001b[0m\u001b[0mfunc\u001b[0m\u001b[0;34m(\u001b[0m\u001b[0;34m*\u001b[0m\u001b[0margs\u001b[0m\u001b[0;34m,\u001b[0m \u001b[0;34m**\u001b[0m\u001b[0mkwargs\u001b[0m\u001b[0;34m)\u001b[0m \u001b[0;32mfor\u001b[0m \u001b[0mfunc\u001b[0m\u001b[0;34m,\u001b[0m \u001b[0margs\u001b[0m\u001b[0;34m,\u001b[0m \u001b[0mkwargs\u001b[0m \u001b[0;32min\u001b[0m \u001b[0mself\u001b[0m\u001b[0;34m.\u001b[0m\u001b[0mitems\u001b[0m\u001b[0;34m]\u001b[0m\u001b[0;34m\u001b[0m\u001b[0m\n\u001b[0m\u001b[1;32m    132\u001b[0m \u001b[0;34m\u001b[0m\u001b[0m\n\u001b[1;32m    133\u001b[0m     \u001b[0;32mdef\u001b[0m \u001b[0m__len__\u001b[0m\u001b[0;34m(\u001b[0m\u001b[0mself\u001b[0m\u001b[0;34m)\u001b[0m\u001b[0;34m:\u001b[0m\u001b[0;34m\u001b[0m\u001b[0m\n",
      "\u001b[0;32m~/miniconda3/envs/kaggle_fia/lib/python3.6/site-packages/sklearn/externals/joblib/parallel.py\u001b[0m in \u001b[0;36m<listcomp>\u001b[0;34m(.0)\u001b[0m\n\u001b[1;32m    129\u001b[0m \u001b[0;34m\u001b[0m\u001b[0m\n\u001b[1;32m    130\u001b[0m     \u001b[0;32mdef\u001b[0m \u001b[0m__call__\u001b[0m\u001b[0;34m(\u001b[0m\u001b[0mself\u001b[0m\u001b[0;34m)\u001b[0m\u001b[0;34m:\u001b[0m\u001b[0;34m\u001b[0m\u001b[0m\n\u001b[0;32m--> 131\u001b[0;31m         \u001b[0;32mreturn\u001b[0m \u001b[0;34m[\u001b[0m\u001b[0mfunc\u001b[0m\u001b[0;34m(\u001b[0m\u001b[0;34m*\u001b[0m\u001b[0margs\u001b[0m\u001b[0;34m,\u001b[0m \u001b[0;34m**\u001b[0m\u001b[0mkwargs\u001b[0m\u001b[0;34m)\u001b[0m \u001b[0;32mfor\u001b[0m \u001b[0mfunc\u001b[0m\u001b[0;34m,\u001b[0m \u001b[0margs\u001b[0m\u001b[0;34m,\u001b[0m \u001b[0mkwargs\u001b[0m \u001b[0;32min\u001b[0m \u001b[0mself\u001b[0m\u001b[0;34m.\u001b[0m\u001b[0mitems\u001b[0m\u001b[0;34m]\u001b[0m\u001b[0;34m\u001b[0m\u001b[0m\n\u001b[0m\u001b[1;32m    132\u001b[0m \u001b[0;34m\u001b[0m\u001b[0m\n\u001b[1;32m    133\u001b[0m     \u001b[0;32mdef\u001b[0m \u001b[0m__len__\u001b[0m\u001b[0;34m(\u001b[0m\u001b[0mself\u001b[0m\u001b[0;34m)\u001b[0m\u001b[0;34m:\u001b[0m\u001b[0;34m\u001b[0m\u001b[0m\n",
      "\u001b[0;32m~/miniconda3/envs/kaggle_fia/lib/python3.6/site-packages/sklearn/model_selection/_validation.py\u001b[0m in \u001b[0;36m_fit_and_score\u001b[0;34m(estimator, X, y, scorer, train, test, verbose, parameters, fit_params, return_train_score, return_parameters, return_n_test_samples, return_times, error_score)\u001b[0m\n\u001b[1;32m    456\u001b[0m             \u001b[0mestimator\u001b[0m\u001b[0;34m.\u001b[0m\u001b[0mfit\u001b[0m\u001b[0;34m(\u001b[0m\u001b[0mX_train\u001b[0m\u001b[0;34m,\u001b[0m \u001b[0;34m**\u001b[0m\u001b[0mfit_params\u001b[0m\u001b[0;34m)\u001b[0m\u001b[0;34m\u001b[0m\u001b[0m\n\u001b[1;32m    457\u001b[0m         \u001b[0;32melse\u001b[0m\u001b[0;34m:\u001b[0m\u001b[0;34m\u001b[0m\u001b[0m\n\u001b[0;32m--> 458\u001b[0;31m             \u001b[0mestimator\u001b[0m\u001b[0;34m.\u001b[0m\u001b[0mfit\u001b[0m\u001b[0;34m(\u001b[0m\u001b[0mX_train\u001b[0m\u001b[0;34m,\u001b[0m \u001b[0my_train\u001b[0m\u001b[0;34m,\u001b[0m \u001b[0;34m**\u001b[0m\u001b[0mfit_params\u001b[0m\u001b[0;34m)\u001b[0m\u001b[0;34m\u001b[0m\u001b[0m\n\u001b[0m\u001b[1;32m    459\u001b[0m \u001b[0;34m\u001b[0m\u001b[0m\n\u001b[1;32m    460\u001b[0m     \u001b[0;32mexcept\u001b[0m \u001b[0mException\u001b[0m \u001b[0;32mas\u001b[0m \u001b[0me\u001b[0m\u001b[0;34m:\u001b[0m\u001b[0;34m\u001b[0m\u001b[0m\n",
      "\u001b[0;32m~/miniconda3/envs/kaggle_fia/lib/python3.6/site-packages/sklearn/ensemble/gradient_boosting.py\u001b[0m in \u001b[0;36mfit\u001b[0;34m(self, X, y, sample_weight, monitor)\u001b[0m\n\u001b[1;32m   1032\u001b[0m         \u001b[0;31m# fit the boosting stages\u001b[0m\u001b[0;34m\u001b[0m\u001b[0;34m\u001b[0m\u001b[0m\n\u001b[1;32m   1033\u001b[0m         n_stages = self._fit_stages(X, y, y_pred, sample_weight, random_state,\n\u001b[0;32m-> 1034\u001b[0;31m                                     begin_at_stage, monitor, X_idx_sorted)\n\u001b[0m\u001b[1;32m   1035\u001b[0m         \u001b[0;31m# change shape of arrays after fit (early-stopping or additional ests)\u001b[0m\u001b[0;34m\u001b[0m\u001b[0;34m\u001b[0m\u001b[0m\n\u001b[1;32m   1036\u001b[0m         \u001b[0;32mif\u001b[0m \u001b[0mn_stages\u001b[0m \u001b[0;34m!=\u001b[0m \u001b[0mself\u001b[0m\u001b[0;34m.\u001b[0m\u001b[0mestimators_\u001b[0m\u001b[0;34m.\u001b[0m\u001b[0mshape\u001b[0m\u001b[0;34m[\u001b[0m\u001b[0;36m0\u001b[0m\u001b[0;34m]\u001b[0m\u001b[0;34m:\u001b[0m\u001b[0;34m\u001b[0m\u001b[0m\n",
      "\u001b[0;32m~/miniconda3/envs/kaggle_fia/lib/python3.6/site-packages/sklearn/ensemble/gradient_boosting.py\u001b[0m in \u001b[0;36m_fit_stages\u001b[0;34m(self, X, y, y_pred, sample_weight, random_state, begin_at_stage, monitor, X_idx_sorted)\u001b[0m\n\u001b[1;32m   1078\u001b[0m             \u001b[0;32mif\u001b[0m \u001b[0mdo_oob\u001b[0m\u001b[0;34m:\u001b[0m\u001b[0;34m\u001b[0m\u001b[0m\n\u001b[1;32m   1079\u001b[0m                 sample_mask = _random_sample_mask(n_samples, n_inbag,\n\u001b[0;32m-> 1080\u001b[0;31m                                                   random_state)\n\u001b[0m\u001b[1;32m   1081\u001b[0m                 \u001b[0;31m# OOB score before adding this stage\u001b[0m\u001b[0;34m\u001b[0m\u001b[0;34m\u001b[0m\u001b[0m\n\u001b[1;32m   1082\u001b[0m                 old_oob_score = loss_(y[~sample_mask],\n",
      "\u001b[0;31mKeyboardInterrupt\u001b[0m: "
     ]
    }
   ],
   "source": [
    "from sklearn.model_selection import GridSearchCV\n",
    "\n",
    "clf = GridSearchCV(GradientBoostingClassifier(), tuned_parameters, cv=5, scoring='roc_auc')\n",
    "clf.fit(X_train, y_train)"
   ]
  },
  {
   "cell_type": "code",
   "execution_count": 31,
   "metadata": {},
   "outputs": [],
   "source": [
    "tuned_parameters = {'n_estimators': [10, 100, 300, 600],\n",
    "                     'max_depth' : [3, 10, 15],\n",
    "                     'min_samples_split': [2, 6, 10],\n",
    "                     'learning_rate': [0.001, 0.01, 0.1, 1], \n",
    "                     'subsample': [0.5, 1]}"
   ]
  },
  {
   "cell_type": "code",
   "execution_count": 33,
   "metadata": {},
   "outputs": [
    {
     "name": "stdout",
     "output_type": "stream",
     "text": [
      "Fitting 3 folds for each of 20 candidates, totalling 60 fits\n",
      "[CV] subsample=1, n_estimators=100, min_samples_split=2, max_depth=15, learning_rate=0.01 \n",
      "[CV] subsample=1, n_estimators=100, min_samples_split=2, max_depth=15, learning_rate=0.01 \n",
      "[CV] subsample=1, n_estimators=100, min_samples_split=2, max_depth=15, learning_rate=0.01 \n",
      "[CV] subsample=1, n_estimators=300, min_samples_split=10, max_depth=3, learning_rate=1 \n",
      "[CV]  subsample=1, n_estimators=300, min_samples_split=10, max_depth=3, learning_rate=1, total=  38.5s\n",
      "[CV] subsample=1, n_estimators=300, min_samples_split=10, max_depth=3, learning_rate=1 \n",
      "[CV]  subsample=1, n_estimators=300, min_samples_split=10, max_depth=3, learning_rate=1, total=  29.5s\n",
      "[CV] subsample=1, n_estimators=300, min_samples_split=10, max_depth=3, learning_rate=1 \n",
      "[CV]  subsample=1, n_estimators=300, min_samples_split=10, max_depth=3, learning_rate=1, total=  30.6s\n",
      "[CV] subsample=1, n_estimators=10, min_samples_split=10, max_depth=3, learning_rate=1 \n",
      "[CV]  subsample=1, n_estimators=10, min_samples_split=10, max_depth=3, learning_rate=1, total=   1.2s\n",
      "[CV] subsample=1, n_estimators=10, min_samples_split=10, max_depth=3, learning_rate=1 \n",
      "[CV]  subsample=1, n_estimators=10, min_samples_split=10, max_depth=3, learning_rate=1, total=   1.2s\n",
      "[CV] subsample=1, n_estimators=10, min_samples_split=10, max_depth=3, learning_rate=1 \n",
      "[CV]  subsample=1, n_estimators=10, min_samples_split=10, max_depth=3, learning_rate=1, total=   1.1s\n",
      "[CV] subsample=0.5, n_estimators=100, min_samples_split=2, max_depth=15, learning_rate=0.1 \n",
      "[CV]  subsample=1, n_estimators=100, min_samples_split=2, max_depth=15, learning_rate=0.01, total= 4.5min\n",
      "[CV] subsample=0.5, n_estimators=100, min_samples_split=2, max_depth=15, learning_rate=0.1 \n",
      "[CV]  subsample=1, n_estimators=100, min_samples_split=2, max_depth=15, learning_rate=0.01, total= 5.0min\n",
      "[CV] subsample=0.5, n_estimators=100, min_samples_split=2, max_depth=15, learning_rate=0.1 \n",
      "[CV]  subsample=1, n_estimators=100, min_samples_split=2, max_depth=15, learning_rate=0.01, total= 5.1min\n",
      "[CV] subsample=0.5, n_estimators=100, min_samples_split=2, max_depth=15, learning_rate=1 \n",
      "[CV]  subsample=0.5, n_estimators=100, min_samples_split=2, max_depth=15, learning_rate=0.1, total= 4.0min\n",
      "[CV] subsample=0.5, n_estimators=100, min_samples_split=2, max_depth=15, learning_rate=1 \n",
      "[CV]  subsample=0.5, n_estimators=100, min_samples_split=2, max_depth=15, learning_rate=0.1, total= 4.2min\n",
      "[CV] subsample=0.5, n_estimators=100, min_samples_split=2, max_depth=15, learning_rate=1 \n",
      "[CV]  subsample=0.5, n_estimators=100, min_samples_split=2, max_depth=15, learning_rate=0.1, total= 4.3min\n",
      "[CV] subsample=0.5, n_estimators=300, min_samples_split=10, max_depth=15, learning_rate=0.001 \n",
      "[CV]  subsample=0.5, n_estimators=100, min_samples_split=2, max_depth=15, learning_rate=1, total= 5.0min\n",
      "[CV] subsample=0.5, n_estimators=300, min_samples_split=10, max_depth=15, learning_rate=0.001 \n",
      "[CV]  subsample=0.5, n_estimators=100, min_samples_split=2, max_depth=15, learning_rate=1, total= 4.7min\n",
      "[CV] subsample=0.5, n_estimators=300, min_samples_split=10, max_depth=15, learning_rate=0.001 \n",
      "[CV]  subsample=0.5, n_estimators=100, min_samples_split=2, max_depth=15, learning_rate=1, total= 4.2min\n",
      "[CV] subsample=1, n_estimators=100, min_samples_split=6, max_depth=10, learning_rate=0.1 \n",
      "[CV]  subsample=1, n_estimators=100, min_samples_split=6, max_depth=10, learning_rate=0.1, total= 1.3min\n",
      "[CV] subsample=1, n_estimators=100, min_samples_split=6, max_depth=10, learning_rate=0.1 \n",
      "[CV]  subsample=1, n_estimators=100, min_samples_split=6, max_depth=10, learning_rate=0.1, total= 1.2min\n",
      "[CV] subsample=1, n_estimators=100, min_samples_split=6, max_depth=10, learning_rate=0.1 \n",
      "[CV]  subsample=0.5, n_estimators=300, min_samples_split=10, max_depth=15, learning_rate=0.001, total= 7.1min\n",
      "[CV] subsample=1, n_estimators=300, min_samples_split=6, max_depth=15, learning_rate=0.1 \n",
      "[CV]  subsample=1, n_estimators=100, min_samples_split=6, max_depth=10, learning_rate=0.1, total= 1.3min\n",
      "[CV] subsample=1, n_estimators=300, min_samples_split=6, max_depth=15, learning_rate=0.1 \n",
      "[CV]  subsample=0.5, n_estimators=300, min_samples_split=10, max_depth=15, learning_rate=0.001, total= 7.2min\n",
      "[CV] subsample=1, n_estimators=300, min_samples_split=6, max_depth=15, learning_rate=0.1 \n",
      "[CV]  subsample=0.5, n_estimators=300, min_samples_split=10, max_depth=15, learning_rate=0.001, total= 7.3min\n",
      "[CV] subsample=1, n_estimators=600, min_samples_split=10, max_depth=15, learning_rate=0.1 \n",
      "[CV]  subsample=1, n_estimators=300, min_samples_split=6, max_depth=15, learning_rate=0.1, total= 7.4min\n",
      "[CV] subsample=1, n_estimators=600, min_samples_split=10, max_depth=15, learning_rate=0.1 \n",
      "[CV]  subsample=1, n_estimators=300, min_samples_split=6, max_depth=15, learning_rate=0.1, total= 7.3min\n",
      "[CV] subsample=1, n_estimators=600, min_samples_split=10, max_depth=15, learning_rate=0.1 \n",
      "[CV]  subsample=1, n_estimators=300, min_samples_split=6, max_depth=15, learning_rate=0.1, total= 7.3min\n",
      "[CV] subsample=0.5, n_estimators=600, min_samples_split=2, max_depth=15, learning_rate=0.1 \n",
      "[CV]  subsample=1, n_estimators=600, min_samples_split=10, max_depth=15, learning_rate=0.1, total= 8.2min\n",
      "[CV] subsample=0.5, n_estimators=600, min_samples_split=2, max_depth=15, learning_rate=0.1 \n",
      "[CV]  subsample=1, n_estimators=600, min_samples_split=10, max_depth=15, learning_rate=0.1, total= 8.6min\n",
      "[CV] subsample=0.5, n_estimators=600, min_samples_split=2, max_depth=15, learning_rate=0.1 \n",
      "[CV]  subsample=1, n_estimators=600, min_samples_split=10, max_depth=15, learning_rate=0.1, total= 8.9min\n",
      "[CV] subsample=0.5, n_estimators=300, min_samples_split=6, max_depth=15, learning_rate=0.1 \n",
      "[CV]  subsample=0.5, n_estimators=600, min_samples_split=2, max_depth=15, learning_rate=0.1, total=10.3min\n",
      "[CV] subsample=0.5, n_estimators=300, min_samples_split=6, max_depth=15, learning_rate=0.1 \n",
      "[CV]  subsample=0.5, n_estimators=600, min_samples_split=2, max_depth=15, learning_rate=0.1, total=10.0min\n",
      "[CV] subsample=0.5, n_estimators=300, min_samples_split=6, max_depth=15, learning_rate=0.1 \n",
      "[CV]  subsample=0.5, n_estimators=300, min_samples_split=6, max_depth=15, learning_rate=0.1, total= 6.5min\n",
      "[CV] subsample=1, n_estimators=300, min_samples_split=2, max_depth=15, learning_rate=1 \n",
      "[CV]  subsample=1, n_estimators=300, min_samples_split=2, max_depth=15, learning_rate=1, total= 1.7min\n",
      "[CV] subsample=1, n_estimators=300, min_samples_split=2, max_depth=15, learning_rate=1 \n",
      "[CV]  subsample=0.5, n_estimators=300, min_samples_split=6, max_depth=15, learning_rate=0.1, total= 6.8min\n",
      "[CV] subsample=1, n_estimators=300, min_samples_split=2, max_depth=15, learning_rate=1 \n",
      "[CV]  subsample=1, n_estimators=300, min_samples_split=2, max_depth=15, learning_rate=1, total= 1.3min\n",
      "[CV] subsample=1, n_estimators=300, min_samples_split=6, max_depth=3, learning_rate=1 \n"
     ]
    },
    {
     "name": "stderr",
     "output_type": "stream",
     "text": [
      "[Parallel(n_jobs=-1)]: Done  33 tasks      | elapsed: 42.4min\n"
     ]
    },
    {
     "name": "stdout",
     "output_type": "stream",
     "text": [
      "[CV]  subsample=0.5, n_estimators=600, min_samples_split=2, max_depth=15, learning_rate=0.1, total= 9.8min\n",
      "[CV] subsample=1, n_estimators=300, min_samples_split=6, max_depth=3, learning_rate=1 \n",
      "[CV]  subsample=0.5, n_estimators=300, min_samples_split=6, max_depth=15, learning_rate=0.1, total= 6.6min\n",
      "[CV] subsample=1, n_estimators=300, min_samples_split=6, max_depth=3, learning_rate=1 \n",
      "[CV]  subsample=1, n_estimators=300, min_samples_split=6, max_depth=3, learning_rate=1, total=  37.3s\n",
      "[CV] subsample=1, n_estimators=300, min_samples_split=2, max_depth=3, learning_rate=0.1 \n",
      "[CV]  subsample=1, n_estimators=300, min_samples_split=6, max_depth=3, learning_rate=1, total=  37.1s\n",
      "[CV] subsample=1, n_estimators=300, min_samples_split=2, max_depth=3, learning_rate=0.1 \n",
      "[CV]  subsample=1, n_estimators=300, min_samples_split=6, max_depth=3, learning_rate=1, total=  37.0s\n",
      "[CV] subsample=1, n_estimators=300, min_samples_split=2, max_depth=3, learning_rate=0.1 \n",
      "[CV]  subsample=1, n_estimators=300, min_samples_split=2, max_depth=3, learning_rate=0.1, total=  36.6s\n",
      "[CV] subsample=0.5, n_estimators=100, min_samples_split=6, max_depth=3, learning_rate=1 \n",
      "[CV]  subsample=1, n_estimators=300, min_samples_split=2, max_depth=15, learning_rate=1, total= 1.9min\n",
      "[CV] subsample=0.5, n_estimators=100, min_samples_split=6, max_depth=3, learning_rate=1 \n",
      "[CV]  subsample=0.5, n_estimators=100, min_samples_split=6, max_depth=3, learning_rate=1, total=  10.5s\n",
      "[CV] subsample=0.5, n_estimators=100, min_samples_split=6, max_depth=3, learning_rate=1 \n",
      "[CV]  subsample=0.5, n_estimators=100, min_samples_split=6, max_depth=3, learning_rate=1, total=  11.1s\n",
      "[CV] subsample=1, n_estimators=300, min_samples_split=2, max_depth=10, learning_rate=0.1 \n",
      "[CV]  subsample=1, n_estimators=300, min_samples_split=2, max_depth=3, learning_rate=0.1, total=  35.8s\n",
      "[CV] subsample=1, n_estimators=300, min_samples_split=2, max_depth=10, learning_rate=0.1 \n",
      "[CV]  subsample=0.5, n_estimators=100, min_samples_split=6, max_depth=3, learning_rate=1, total=  10.6s\n",
      "[CV] subsample=1, n_estimators=300, min_samples_split=2, max_depth=10, learning_rate=0.1 \n",
      "[CV]  subsample=1, n_estimators=300, min_samples_split=2, max_depth=3, learning_rate=0.1, total=  38.4s\n",
      "[CV] subsample=1, n_estimators=10, min_samples_split=6, max_depth=15, learning_rate=0.001 \n",
      "[CV]  subsample=1, n_estimators=10, min_samples_split=6, max_depth=15, learning_rate=0.001, total=  17.6s\n",
      "[CV] subsample=1, n_estimators=10, min_samples_split=6, max_depth=15, learning_rate=0.001 \n",
      "[CV]  subsample=1, n_estimators=10, min_samples_split=6, max_depth=15, learning_rate=0.001, total=  17.5s\n",
      "[CV] subsample=1, n_estimators=10, min_samples_split=6, max_depth=15, learning_rate=0.001 \n",
      "[CV]  subsample=1, n_estimators=10, min_samples_split=6, max_depth=15, learning_rate=0.001, total=  19.3s\n",
      "[CV] subsample=1, n_estimators=600, min_samples_split=10, max_depth=15, learning_rate=0.001 \n",
      "[CV]  subsample=1, n_estimators=300, min_samples_split=2, max_depth=10, learning_rate=0.1, total= 4.8min\n",
      "[CV] subsample=1, n_estimators=600, min_samples_split=10, max_depth=15, learning_rate=0.001 \n",
      "[CV]  subsample=1, n_estimators=300, min_samples_split=2, max_depth=10, learning_rate=0.1, total= 4.8min\n",
      "[CV] subsample=1, n_estimators=600, min_samples_split=10, max_depth=15, learning_rate=0.001 \n",
      "[CV]  subsample=1, n_estimators=300, min_samples_split=2, max_depth=10, learning_rate=0.1, total= 4.8min\n",
      "[CV] subsample=0.5, n_estimators=300, min_samples_split=10, max_depth=3, learning_rate=1 \n",
      "[CV]  subsample=0.5, n_estimators=300, min_samples_split=10, max_depth=3, learning_rate=1, total=  29.6s\n",
      "[CV] subsample=0.5, n_estimators=300, min_samples_split=10, max_depth=3, learning_rate=1 \n",
      "[CV]  subsample=0.5, n_estimators=300, min_samples_split=10, max_depth=3, learning_rate=1, total=  28.7s\n",
      "[CV] subsample=0.5, n_estimators=300, min_samples_split=10, max_depth=3, learning_rate=1 \n",
      "[CV]  subsample=0.5, n_estimators=300, min_samples_split=10, max_depth=3, learning_rate=1, total=  27.4s\n",
      "[CV] subsample=1, n_estimators=10, min_samples_split=6, max_depth=10, learning_rate=0.001 \n",
      "[CV]  subsample=1, n_estimators=10, min_samples_split=6, max_depth=10, learning_rate=0.001, total=   8.7s\n",
      "[CV] subsample=1, n_estimators=10, min_samples_split=6, max_depth=10, learning_rate=0.001 \n",
      "[CV]  subsample=1, n_estimators=10, min_samples_split=6, max_depth=10, learning_rate=0.001, total=   8.6s\n",
      "[CV] subsample=1, n_estimators=10, min_samples_split=6, max_depth=10, learning_rate=0.001 \n",
      "[CV]  subsample=1, n_estimators=10, min_samples_split=6, max_depth=10, learning_rate=0.001, total=  10.9s\n",
      "[CV]  subsample=1, n_estimators=600, min_samples_split=10, max_depth=15, learning_rate=0.001, total=14.9min\n",
      "[CV]  subsample=1, n_estimators=600, min_samples_split=10, max_depth=15, learning_rate=0.001, total=13.1min\n",
      "[CV]  subsample=1, n_estimators=600, min_samples_split=10, max_depth=15, learning_rate=0.001, total=13.8min\n"
     ]
    },
    {
     "name": "stderr",
     "output_type": "stream",
     "text": [
      "[Parallel(n_jobs=-1)]: Done  60 out of  60 | elapsed: 62.6min finished\n"
     ]
    },
    {
     "name": "stdout",
     "output_type": "stream",
     "text": [
      "CPU times: user 22.7 s, sys: 707 ms, total: 23.4 s\n",
      "Wall time: 1h 3min 16s\n"
     ]
    }
   ],
   "source": [
    "%%time\n",
    "# Use the random grid to search for best hyperparameters\n",
    "# First create the base model to tune\n",
    "clf = GradientBoostingClassifier()\n",
    "\n",
    "# Random search of parameters, using 3 fold cross validation, \n",
    "# search across 100 different combinations, and use all available cores\n",
    "clf_random = RandomizedSearchCV(estimator = clf, param_distributions = tuned_parameters, n_iter = 20, cv = 3, verbose=2, random_state=433, n_jobs = -1, scoring='roc_auc')\n",
    "\n",
    "# Fit the random search model\n",
    "clf_random.fit(X_train, y_train)"
   ]
  },
  {
   "cell_type": "code",
   "execution_count": 34,
   "metadata": {},
   "outputs": [
    {
     "data": {
      "text/plain": [
       "{'subsample': 1,\n",
       " 'n_estimators': 300,\n",
       " 'min_samples_split': 2,\n",
       " 'max_depth': 3,\n",
       " 'learning_rate': 0.1}"
      ]
     },
     "execution_count": 34,
     "metadata": {},
     "output_type": "execute_result"
    }
   ],
   "source": [
    "clf_random.best_params_"
   ]
  },
  {
   "cell_type": "code",
   "execution_count": null,
   "metadata": {},
   "outputs": [],
   "source": []
  }
 ],
 "metadata": {
  "kernelspec": {
   "display_name": "Python [kaggle_fia]",
   "language": "python",
   "name": "kaggle_fia"
  },
  "language_info": {
   "codemirror_mode": {
    "name": "ipython",
    "version": 3
   },
   "file_extension": ".py",
   "mimetype": "text/x-python",
   "name": "python",
   "nbconvert_exporter": "python",
   "pygments_lexer": "ipython3",
   "version": "3.6.5"
  }
 },
 "nbformat": 4,
 "nbformat_minor": 2
}
