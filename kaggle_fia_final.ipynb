{
 "cells": [
  {
   "cell_type": "code",
   "execution_count": 58,
   "metadata": {},
   "outputs": [],
   "source": [
    "import numpy as np\n",
    "import pandas as pd\n",
    "import matplotlib.pyplot as plt\n",
    "import seaborn as sns; sns.set_style('white')\n",
    "\n",
    "%matplotlib inline"
   ]
  },
  {
   "cell_type": "code",
   "execution_count": 59,
   "metadata": {},
   "outputs": [],
   "source": [
    "# read data\n",
    "data_treino = pd.read_csv(\n",
    "    'data/credit_train_label.csv'\n",
    ")\n",
    "\n",
    "data_resposta = pd.read_csv(\n",
    "    'data/credit_test_features.csv'\n",
    ")"
   ]
  },
  {
   "cell_type": "code",
   "execution_count": 60,
   "metadata": {},
   "outputs": [],
   "source": [
    "data_treino.drop('X', axis=1, inplace=True)\n",
    "data_resposta.drop('X', axis=1, inplace=True)"
   ]
  },
  {
   "cell_type": "code",
   "execution_count": 61,
   "metadata": {},
   "outputs": [],
   "source": [
    "X = data_treino.iloc[:, 1:]\n",
    "y = data_treino.iloc[:, 0]"
   ]
  },
  {
   "cell_type": "code",
   "execution_count": 63,
   "metadata": {},
   "outputs": [],
   "source": [
    "# Windsor\n",
    "windsor = {}\n",
    "for feature in X.columns:\n",
    "    windsor[feature] = X[feature].quantile(0.99)\n",
    "    X.loc[X[feature] > windsor[feature], feature] = windsor[feature]\n",
    "    data_resposta.loc[data_resposta[feature] > windsor[feature], feature] = windsor[feature]\n"
   ]
  },
  {
   "cell_type": "code",
   "execution_count": 64,
   "metadata": {},
   "outputs": [],
   "source": [
    "monthly_income_median = X['MonthlyIncome'].median()\n",
    "number_of_dependents = X['NumberOfDependents'].median()"
   ]
  },
  {
   "cell_type": "code",
   "execution_count": 65,
   "metadata": {},
   "outputs": [],
   "source": [
    "X['MonthlyIncome'].fillna(monthly_income_median, inplace=True)\n",
    "X['NumberOfDependents'].fillna(number_of_dependents, inplace=True)\n",
    "\n",
    "data_resposta['MonthlyIncome'].fillna(monthly_income_median, inplace=True)\n",
    "data_resposta['NumberOfDependents'].fillna(number_of_dependents, inplace=True)"
   ]
  },
  {
   "cell_type": "code",
   "execution_count": 66,
   "metadata": {},
   "outputs": [],
   "source": [
    "# from imblearn.over_sampling import SMOTE, RandomOverSampler\n",
    "\n",
    "# sm = SMOTE(random_state=433)\n",
    "# sm = RandomOverSampler(random_state=433)\n",
    "# X_train, y_train = sm.fit_sample(X_train, y_train)"
   ]
  },
  {
   "cell_type": "code",
   "execution_count": 51,
   "metadata": {},
   "outputs": [],
   "source": [
    "#modelo1\n",
    "from sklearn.ensemble import GradientBoostingClassifier\n",
    "\n",
    "params = {'n_estimators': 500, 'max_depth': 2, 'min_samples_split': 2,\n",
    "          'learning_rate': 0.01, 'random_state': 42}\n",
    "\n",
    "clf = GradientBoostingClassifier(**params)\n",
    "\n",
    "clf.fit(X, y)\n",
    "y_hat = clf.predict(data_resposta)\n",
    "y_probs = clf.predict_proba(data_resposta)"
   ]
  },
  {
   "cell_type": "code",
   "execution_count": 67,
   "metadata": {},
   "outputs": [],
   "source": [
    "#modelo 2\n",
    "params = {\n",
    "    'subsample': 1,\n",
    "    'n_estimators': 300,\n",
    "    'min_samples_split': 2,\n",
    "    'max_depth': 3,\n",
    "    'learning_rate': 0.1,\n",
    "    'random_state': 42\n",
    "}\n",
    "\n",
    "clf = GradientBoostingClassifier(**params)\n",
    "\n",
    "clf.fit(X, y)\n",
    "y_hat = clf.predict(data_resposta)\n",
    "y_probs = clf.predict_proba(data_resposta)"
   ]
  },
  {
   "cell_type": "code",
   "execution_count": 53,
   "metadata": {},
   "outputs": [
    {
     "data": {
      "text/plain": [
       "array([[0.98623598, 0.01376402],\n",
       "       [0.99184227, 0.00815773],\n",
       "       [0.99563994, 0.00436006],\n",
       "       ...,\n",
       "       [0.98355338, 0.01644662],\n",
       "       [0.98710024, 0.01289976],\n",
       "       [0.97370682, 0.02629318]])"
      ]
     },
     "execution_count": 53,
     "metadata": {},
     "output_type": "execute_result"
    }
   ],
   "source": [
    "y_probs"
   ]
  },
  {
   "cell_type": "code",
   "execution_count": 56,
   "metadata": {},
   "outputs": [],
   "source": [
    "data_resposta['Predicted'] = y_probs[:,1]"
   ]
  },
  {
   "cell_type": "code",
   "execution_count": 57,
   "metadata": {},
   "outputs": [],
   "source": [
    "data_resposta.to_csv('submission_pedro_correia2.csv', index=False) #0.86286"
   ]
  },
  {
   "cell_type": "code",
   "execution_count": null,
   "metadata": {},
   "outputs": [],
   "source": []
  },
  {
   "cell_type": "code",
   "execution_count": null,
   "metadata": {},
   "outputs": [],
   "source": []
  },
  {
   "cell_type": "code",
   "execution_count": null,
   "metadata": {},
   "outputs": [],
   "source": []
  }
 ],
 "metadata": {
  "kernelspec": {
   "display_name": "Python [kaggle_fia]",
   "language": "python",
   "name": "kaggle_fia"
  },
  "language_info": {
   "codemirror_mode": {
    "name": "ipython",
    "version": 3
   },
   "file_extension": ".py",
   "mimetype": "text/x-python",
   "name": "python",
   "nbconvert_exporter": "python",
   "pygments_lexer": "ipython3",
   "version": "3.6.5"
  }
 },
 "nbformat": 4,
 "nbformat_minor": 2
}
